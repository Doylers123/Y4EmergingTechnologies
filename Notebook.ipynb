{
 "cells": [
  {
   "cell_type": "code",
   "execution_count": 2,
   "metadata": {},
   "outputs": [
    {
     "name": "stderr",
     "output_type": "stream",
     "text": [
      "Using TensorFlow backend.\n"
     ]
    }
   ],
   "source": [
    "# Used to create a neural network that will be trained using the MNIST dataset\n",
    "import keras as kr\n",
    "# used to Store the bytes files in arrays that can be easily fed into the neural network\n",
    "import numpy as np\n",
    "# plotting the data on graphs for visualisation\n",
    "import matplotlib.pyplot as plt"
   ]
  },
  {
   "cell_type": "markdown",
   "metadata": {},
   "source": [
    "# Decompressing the datasets from MNIST"
   ]
  },
  {
   "cell_type": "code",
   "execution_count": null,
   "metadata": {},
   "outputs": [],
   "source": [
    "# Import mnist dataset\n",
    "# Dataset used by the neural network\n",
    "(train_img, train_lbl), (test_img, test_lbl) = kr.datasets.mnist.load_data()\n",
    "\n",
    "# Reshaping data using normalisation\n",
    "# Original data is [0-255]. \n",
    "# Scale it to range [0,1].\n",
    "train_img = train_img.reshape(60000, 784)\n",
    "test_img = test_img.reshape(10000, 784)\n",
    "\n",
    "# Converting the images to float32 to allow for better division\n",
    "train_img = train_img.astype('float32')\n",
    "test_img = test_img.astype('float32')\n",
    "\n",
    "# Dividing the images by 255 to scale the range to [0,1]\n",
    "train_img = train_img/255\n",
    "test_img = test_img/255 \n",
    "\n",
    "# mnist dataset contains 10 different digits\n",
    "# Therefore vector size is 10\n",
    "# --> 0 1 2 3 4 5 6 7 8 9 \n",
    "digits= 10\n",
    "\n",
    "# Passed the labels to one hot vecotrs with a vector size of 10\n",
    "train_lbl = kr.utils.np_utils.to_categorical(train_lbl, digits)\n",
    "test_lbl = kr.utils.np_utils.to_categorical(test_lbl, digits)\n",
    "\n",
    "# The third index in the array should have the 1\n",
    "print(\"One hot vector at index 0 of training labels \", train_lbl[0])"
   ]
  },
  {
   "cell_type": "markdown",
   "metadata": {},
   "source": [
    "# Displaying images & labels from Datasets"
   ]
  },
  {
   "cell_type": "code",
   "execution_count": 46,
   "metadata": {},
   "outputs": [
    {
     "name": "stdout",
     "output_type": "stream",
     "text": [
      "One hot Vector of training label at index 5: [0. 0. 1. 0. 0. 0. 0. 0. 0. 0.]\n"
     ]
    },
    {
     "data": {
      "image/png": "[encoded data removed]",
      "text/plain": [
       "<Figure size 432x288 with 1 Axes>"
      ]
     },
     "metadata": {
      "needs_background": "light"
     },
     "output_type": "display_data"
    }
   ],
   "source": [
    "# displaying the training images and labels to show they are accessible\n",
    "# Showing 5th entry in MNIST\n",
    "image= train_img[5]\n",
    "# specialized function for showing images based on np arrays\n",
    "plt.imshow(image.reshape(28,28), cmap=\"gray\")\n",
    "print(\"One hot Vector of training label at index 5:\", train_lbl[5])"
   ]
  },
  {
   "cell_type": "code",
   "execution_count": 30,
   "metadata": {},
   "outputs": [
    {
     "data": {
      "image/png": "[encoded data removed]",
      "text/plain": [
       "<Figure size 1152x360 with 12 Axes>"
      ]
     },
     "metadata": {},
     "output_type": "display_data"
    }
   ],
   "source": [
    "# Plotting examples of the data in the set\n",
    "plt.figure(1, figsize=(16,5))\n",
    "# For loop that will iterate 12 times\n",
    "for i in range(12):\n",
    "    plt.subplot(1,12,i+1)\n",
    "    plt.imshow(train_img[i].reshape(28,28), cmap=\"gray\")\n",
    "    # removing the labels from the graph so the images are not obstructed\n",
    "    plt.xticks([])\n",
    "    plt.yticks([])"
   ]
  },
  {
   "cell_type": "markdown",
   "metadata": {},
   "source": [
    "# Making The Nueral Network"
   ]
  },
  {
   "cell_type": "code",
   "execution_count": 37,
   "metadata": {},
   "outputs": [
    {
     "name": "stdout",
     "output_type": "stream",
     "text": [
      "Added Layers to the Model\n",
      "Compiling...\n",
      "Compiled!\n"
     ]
    }
   ],
   "source": [
    "# Creating Nueral Network using import model from Keras\n",
    "model = kr.models.Sequential()\n",
    "# Input Layer (First Layer)\n",
    "# Add initial layer to Nueral Network to which this layer recieves inputs\n",
    "\n",
    "# 1st layer uses linear activation to get inputs before moving ojnto next layer\n",
    "model.add(kr.layers.Dense(250, activation = \"relu\", input_shape = (784,)))\n",
    "\n",
    "# Simplification (2nd layer)\n",
    "# activation=\"relu\" means the output will be a 1 for positive result, else 0\n",
    "model.add(kr.layers.Dense(500, activation = \"relu\"))\n",
    "\n",
    "# Output layer (3rd layer)\n",
    "# Softmax is used to map output to a [0,1] range,\n",
    "# allowing output to be interpreted as a probability\n",
    "model.add(kr.layers.Dense(10, activation=\"softmax\"))\n",
    "\n",
    "print(\"Added Layers to the Model\")\n",
    "print(\"Compiling...\")\n",
    "# Building the Neurel Network\n",
    "model.compile(loss=\"categorical_crossentropy\", optimizer=\"adam\", metrics=[\"accuracy\"])\n",
    "print(\"Compiled!\")"
   ]
  },
  {
   "cell_type": "code",
   "execution_count": 38,
   "metadata": {},
   "outputs": [
    {
     "name": "stdout",
     "output_type": "stream",
     "text": [
      "Model Summary\n",
      "Model: \"sequential_4\"\n",
      "_________________________________________________________________\n",
      "Layer (type)                 Output Shape              Param #   \n",
      "=================================================================\n",
      "dense_7 (Dense)              (None, 250)               196250    \n",
      "_________________________________________________________________\n",
      "dense_8 (Dense)              (None, 500)               125500    \n",
      "_________________________________________________________________\n",
      "dense_9 (Dense)              (None, 10)                5010      \n",
      "=================================================================\n",
      "Total params: 326,760\n",
      "Trainable params: 326,760\n",
      "Non-trainable params: 0\n",
      "_________________________________________________________________\n"
     ]
    }
   ],
   "source": [
    "print(\"Model Summary\")\n",
    "model.summary()"
   ]
  },
  {
   "cell_type": "code",
   "execution_count": 41,
   "metadata": {},
   "outputs": [
    {
     "name": "stdout",
     "output_type": "stream",
     "text": [
      "Epoch 1/10\n",
      "60000/60000 [==============================] - 5s 75us/step - loss: 0.3140 - accuracy: 0.9114\n",
      "Epoch 2/10\n",
      "60000/60000 [==============================] - 2s 27us/step - loss: 0.1128 - accuracy: 0.9664\n",
      "Epoch 3/10\n",
      "60000/60000 [==============================] - 2s 27us/step - loss: 0.0721 - accuracy: 0.9783\n",
      "Epoch 4/10\n",
      "60000/60000 [==============================] - 2s 27us/step - loss: 0.0521 - accuracy: 0.9841\n",
      "Epoch 5/10\n",
      "60000/60000 [==============================] - 2s 27us/step - loss: 0.0370 - accuracy: 0.9888\n",
      "Epoch 6/10\n",
      "60000/60000 [==============================] - 2s 27us/step - loss: 0.0279 - accuracy: 0.9913\n",
      "Epoch 7/10\n",
      "60000/60000 [==============================] - ETA: 0s - loss: 0.0220 - accuracy: 0.99 - 2s 30us/step - loss: 0.0219 - accuracy: 0.9934\n",
      "Epoch 8/10\n",
      "60000/60000 [==============================] - 2s 29us/step - loss: 0.0168 - accuracy: 0.9947\n",
      "Epoch 9/10\n",
      "60000/60000 [==============================] - 2s 26us/step - loss: 0.0118 - accuracy: 0.9965\n",
      "Epoch 10/10\n",
      "60000/60000 [==============================] - 2s 28us/step - loss: 0.0117 - accuracy: 0.9963\n"
     ]
    },
    {
     "data": {
      "text/plain": [
       "<keras.callbacks.callbacks.History at 0x273634f6308>"
      ]
     },
     "execution_count": 41,
     "metadata": {},
     "output_type": "execute_result"
    }
   ],
   "source": [
    "# Training the model\n",
    "# the inputs are the images and the outputs are the labels of the training set\n",
    "# an epoch is how many cycles through the inputs and outputs the neureal network will compare\n",
    "model.fit(inputs, outputs, epochs=10, batch_size=256, verbose=1)"
   ]
  },
  {
   "cell_type": "code",
   "execution_count": 42,
   "metadata": {},
   "outputs": [
    {
     "name": "stdout",
     "output_type": "stream",
     "text": [
      "10000/10000 [==============================] - 1s 57us/step\n",
      "10000/10000 [==============================] - 0s 34us/step\n",
      "0.08039408195602227 0.9789000153541565\n",
      "accuracy: 97.89%\n"
     ]
    }
   ],
   "source": [
    "# Calculate and display the loss and model accuracy \n",
    "# adpated from: https://machinelearningmastery.com/save-load-keras-deep-learning-models/\n",
    "loss, accuracy = model.evaluate(test_img, test_lbl)\n",
    "score = model.evaluate(test_img, test_lbl)\n",
    "print(loss, accuracy)\n",
    "print(\"%s: %.2f%%\" % (model.metrics_names[1], score[1]*100))"
   ]
  },
  {
   "cell_type": "markdown",
   "metadata": {},
   "source": [
    "# Saving The Model"
   ]
  },
  {
   "cell_type": "code",
   "execution_count": 45,
   "metadata": {},
   "outputs": [
    {
     "name": "stdout",
     "output_type": "stream",
     "text": [
      "Model Saved.\n"
     ]
    }
   ],
   "source": [
    "model.save('trained_model.h5')\n",
    "print(\"Model Saved.\")"
   ]
  }
 ],
 "metadata": {
  "kernelspec": {
   "display_name": "Python 3",
   "language": "python",
   "name": "python3"
  },
  "language_info": {
   "codemirror_mode": {
    "name": "ipython",
    "version": 3
   },
   "file_extension": ".py",
   "mimetype": "text/x-python",
   "name": "python",
   "nbconvert_exporter": "python",
   "pygments_lexer": "ipython3",
   "version": "3.7.4"
  }
 },
 "nbformat": 4,
 "nbformat_minor": 4
}
