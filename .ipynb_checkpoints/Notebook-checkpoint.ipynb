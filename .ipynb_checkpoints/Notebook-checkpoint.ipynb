{
 "cells": [
  {
   "cell_type": "code",
   "execution_count": 5,
   "metadata": {},
   "outputs": [],
   "source": [
    "import numpy as np\n",
    "import keras as kr\n",
    "import matplotlib.pyplot as plt"
   ]
  },
  {
   "cell_type": "code",
   "execution_count": 1,
   "metadata": {},
   "outputs": [
    {
     "ename": "SyntaxError",
     "evalue": "invalid syntax (<ipython-input-1-1685a5740f01>, line 17)",
     "output_type": "error",
     "traceback": [
      "\u001b[1;36m  File \u001b[1;32m\"<ipython-input-1-1685a5740f01>\"\u001b[1;36m, line \u001b[1;32m17\u001b[0m\n\u001b[1;33m    Darren Browne, [02.12.19 15:34]\u001b[0m\n\u001b[1;37m                ^\u001b[0m\n\u001b[1;31mSyntaxError\u001b[0m\u001b[1;31m:\u001b[0m invalid syntax\n"
     ]
    }
   ],
   "source": [
    "# Starting the the neural network using models in keras\n",
    "model = kr.models.Sequential()\n",
    "# 1st Layer (Input Layer)\n",
    "# add an initial layer to the neural network, this layer gets inputs\n",
    "# linear activation is use for the first layer to get the inputs and then move to the next layer\n",
    "model.add(kr.layers.Dense(600, activation='relu', input_shape=(784,)))\n",
    "# 2nd Layer (Simplification Layer)\n",
    "# relu activation means the output of the layer will be a 1 for postive result, else it will be 0\n",
    "# This layer is used for simplefying the ouputs going into the next final layer\n",
    "model.add(kr.layers.Dense(400, activation=\"relu\"))\n",
    "# 3rd layer (Output Layer)\n",
    "# softmax means the output will make the outputs human readable\n",
    "model.add(kr.layers.Dense(10, activation=\"softmax\"))\n",
    "# Build the Neural Network\n",
    "model.compile(loss=\"categorical_crossentropy\", optimizer=\"adam\", metrics=[\"accuracy\"])\n",
    "\n",
    "Darren Browne, [02.12.19 15:34]\n",
    "model.compile(loss=\"categorical_crossentropy\", optimizer=\"adam\", metrics=[\"accuracy\"])"
   ]
  },
  {
   "cell_type": "code",
   "execution_count": null,
   "metadata": {},
   "outputs": [],
   "source": []
  }
 ],
 "metadata": {
  "kernelspec": {
   "display_name": "Python 3",
   "language": "python",
   "name": "python3"
  },
  "language_info": {
   "codemirror_mode": {
    "name": "ipython",
    "version": 3
   },
   "file_extension": ".py",
   "mimetype": "text/x-python",
   "name": "python",
   "nbconvert_exporter": "python",
   "pygments_lexer": "ipython3",
   "version": "3.7.1"
  }
 },
 "nbformat": 4,
 "nbformat_minor": 2
}
